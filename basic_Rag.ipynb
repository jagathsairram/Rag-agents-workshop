{
 "cells": [
  {
   "cell_type": "code",
   "execution_count": 2,
   "id": "63608b91",
   "metadata": {},
   "outputs": [
    {
     "name": "stdout",
     "output_type": "stream",
     "text": [
      "<think>\n",
      "Okay, so I need to figure out some fun things to do in New York. I'm not super familiar with the city, but I know it's a big place with lots to offer. Let me start by brainstorming what I know and then maybe add some ideas based on what I've heard from others or seen in movies.\n",
      "\n",
      "First off, New York is known for its iconic landmarks. The Statue of Liberty comes to mind. I think you can take a ferry to Liberty Island to see it up close. Then there's Central Park, which is a huge park in the middle of Manhattan. I've heard it's really beautiful, especially during different seasons. Times Square is another place I've heard about; it's all lit up and busy, maybe good for shopping or just experiencing the city's energy.\n",
      "\n",
      "Museums are a big thing in NYC. The Metropolitan Museum of Art is one I've heard of, and the American Museum of Natural History. I think the Met has a lot of famous artworks, and the Natural History museum has dinosaur bones and stuff, which could be cool. There's also the Guggenheim, which I think is known for its unique architecture.\n",
      "\n",
      "Broadway shows are another major attraction. I know people often go to NYC to see musicals and plays. I'm not sure which ones are currently popular, but I guess there are always classics like The Lion King or Wicked, and newer ones too.\n",
      "\n",
      "Food is a big part of NYC culture. I've heard about New York-style pizza, bagels, and hot dogs from street carts. Maybe visiting places like Katz's Delicatessen for pastrami sandwiches or trying a slice from a famous pizzeria like Joe's Pizza or Lombardi's. Chinatown and Little Italy are probably great for diverse food experiences.\n",
      "\n",
      "Shopping areas like Fifth Avenue and SoHo come to mind. Fifth Avenue has a lot of high-end stores, and SoHo is more about boutiques and art galleries. I think there's also a big Macy's in Herald Square. Maybe visiting iconic department stores could be fun.\n",
      "\n",
      "Sports fans might enjoy a Yankees or Mets game. I know Yankee Stadium is in the Bronx, and Citi Field is where the Mets play in Queens. Even if you're not a huge baseball fan, the atmosphere could be exciting.\n",
      "\n",
      "Walking across the Brooklyn Bridge sounds like a nice way to see the city. It connects Brooklyn to Manhattan and offers great views of the skyline and the river. After walking, exploring DUMBO in Brooklyn could be cool, with its cobblestone streets and trendy shops.\n",
      "\n",
      "I've heard about the High Line, which is an elevated park built on an old rail line. It's supposed to have nice views and some art installations. That could be a relaxing thing to do.\n",
      "\n",
      "Visiting the 9/11 Memorial & Museum is something I think a lot of people do to pay respects and learn about history. It's a more somber activity but important.\n",
      "\n",
      "For nightlife, places like Greenwich Village and Williamsburg in Brooklyn have a lot of bars, clubs, and live music venues. I think the Blue Note is a famous jazz club. Rooftop bars like 230 Fifth might offer great views while having a drink.\n",
      "\n",
      "Coney Island in Brooklyn has the Cyclone roller coaster and Nathan's Famous hot dogs. It's probably more of a summer spot but could be fun for the beach and boardwalk.\n",
      "\n",
      "The Empire State Building and Rockefeller Center are iconic skyscrapers with observation decks. Top of the Rock might have better views because you can see the Empire State Building itself. The Empire State Building is a classic, though.\n",
      "\n",
      "Smaller neighborhoods like Greenwich Village, SoHo, and Williamsburg have their own charm with shops, cafes, and street art. Exploring these areas could give a more local feel.\n",
      "\n",
      "The New York Public Library is a beautiful building, and the Grand Central Terminal is famous for its architecture and the main hall with the astronomical ceiling. They might be worth visiting just to see the buildings.\n",
      "\n",
      "Ice skating at Rockefeller Center is a winter activity, and Central Park has a rink too. It's a classic NYC experience, especially around Christmas.\n",
      "\n",
      "Taking a helicopter tour could offer amazing views of the city, though it's probably expensive. A sunset cruise on the Hudson River might be a nice way to see the skyline while relaxing.\n",
      "\n",
      "The Botanical Garden in the Bronx and the High Line are good for nature and art. The Brooklyn Museum has a good feminist art collection, which could be interesting.\n",
      "\n",
      "I think I've covered a lot of the main attractions. Maybe I missed some, but this gives a good variety of options depending on interests—whether someone likes history, food, nature, art, or entertainment.\n",
      "</think>\n",
      "\n",
      "New York City offers a diverse array of activities and attractions that cater to various interests. Here's an organized and elegant presentation of the key points:\n",
      "\n",
      "### Iconic Landmarks and Views\n",
      "- **Statue of Liberty and Ellis Island**: Take a ferry to Liberty Island to see the iconic statue up close and visit the Ellis Island National Museum of Immigration.\n",
      "- **Central Park**: Explore this expansive green space, especially during seasonal changes for varied beauty.\n",
      "- **Times Square**: Experience the vibrant energy, bright lights, and shopping opportunities.\n",
      "- **Brooklyn Bridge**: Walk across for stunning skyline views and explore DUMBO in Brooklyn afterward.\n",
      "- **Empire State Building and Top of the Rock**: Visit observation decks for panoramic city views.\n",
      "\n",
      "### Cultural and Artistic Experiences\n",
      "- **Broadway Shows**: Catch a musical or play, whether classic or contemporary.\n",
      "- **Museums**: Visit the Metropolitan Museum of Art, American Museum of Natural History, and the Guggenheim for art and history.\n",
      "- **The High Line**: Stroll along this elevated park with art installations and city views.\n",
      "- **New York Public Library and Grand Central Terminal**: Admire the architecture and historical significance.\n",
      "\n",
      "### Culinary Delights\n",
      "- **Classic NYC Foods**: Try pizza from Joe's or Lombardi's, bagels, and hot dogs from street carts.\n",
      "- **Katz's Delicatessen**: Enjoy a famous pastrami sandwich.\n",
      "- **Chinatown and Little Italy**: Explore diverse culinary offerings.\n",
      "\n",
      "### Shopping and Neighborhoods\n",
      "- **Fifth Avenue and SoHo**: Shop at high-end stores and boutiques.\n",
      "- **Greenwich Village, SoHo, and Williamsburg**: Discover local charm, shops, and street art.\n",
      "\n",
      "### Sports and Recreation\n",
      "- **Baseball Games**: Watch the Yankees or Mets for a classic NYC experience.\n",
      "- **Coney Island**: Visit for the Cyclone roller coaster and Nathan's Famous hot dogs.\n",
      "\n",
      "### Nightlife and Entertainment\n",
      "- **Greenwich Village and Williamsburg**: Explore bars, clubs, and live music, including the Blue Note jazz club.\n",
      "- **Rooftop Bars**: Enjoy drinks with views at places like 230 Fifth.\n",
      "\n",
      "### Seasonal Activities\n",
      "- **Ice Skating**: Skate at Rockefeller Center or Central Park during winter.\n",
      "- **Sunset Cruise**: Relax on the Hudson River with city views.\n",
      "\n",
      "### Nature and Art\n",
      "- **New York Botanical Garden**: Explore plant collections and seasonal exhibits.\n",
      "- **Brooklyn Museum**: Visit for feminist art and diverse collections.\n",
      "\n",
      "This guide offers a comprehensive look at NYC's attractions, ensuring something for everyone, from history buffs to food enthusiasts and nature lovers.\n"
     ]
    }
   ],
   "source": [
    "from together import Together\n",
    "\n",
    "client = Together()\n",
    "\n",
    "response = client.chat.completions.create(\n",
    "    model=\"deepseek-ai/DeepSeek-R1-Distill-Llama-70B-free\",\n",
    "    messages=[\n",
    "      {\n",
    "        \"role\": \"user\",\n",
    "        \"content\": \"What are some fun things to do in New York?\"\n",
    "      }\n",
    "    ]\n",
    ")\n",
    "print(response.choices[0].message.content)"
   ]
  },
  {
   "cell_type": "code",
   "execution_count": 3,
   "id": "1ac81390",
   "metadata": {},
   "outputs": [],
   "source": [
    "import requests \n",
    "\n",
    "docs_url = 'https://github.com/alexeygrigorev/llm-rag-workshop/raw/main/notebooks/documents.json'\n",
    "docs_response = requests.get(docs_url)\n",
    "documents_raw = docs_response.json()\n",
    "\n",
    "documents = []\n",
    "\n",
    "for course in documents_raw:\n",
    "    course_name = course['course']\n",
    "\n",
    "    for doc in course['documents']:\n",
    "        doc['course'] = course_name\n",
    "        documents.append(doc)"
   ]
  },
  {
   "cell_type": "code",
   "execution_count": 4,
   "id": "6f074459",
   "metadata": {},
   "outputs": [
    {
     "data": {
      "text/plain": [
       "<minsearch.append.AppendableIndex at 0x7501d20b1970>"
      ]
     },
     "execution_count": 4,
     "metadata": {},
     "output_type": "execute_result"
    }
   ],
   "source": [
    "from minsearch import AppendableIndex\n",
    "\n",
    "index = AppendableIndex(\n",
    "    text_fields=[\"question\", \"text\", \"section\"],\n",
    "    keyword_fields=[\"course\"]\n",
    ")\n",
    "\n",
    "index.fit(documents)"
   ]
  },
  {
   "cell_type": "code",
   "execution_count": 5,
   "id": "85a4f245",
   "metadata": {},
   "outputs": [],
   "source": [
    "def search(query):\n",
    "    boost = {'question': 3.0, 'section': 0.5}\n",
    "\n",
    "    results = index.search(\n",
    "        query=query,\n",
    "        filter_dict={'course': 'data-engineering-zoomcamp'},\n",
    "        boost_dict=boost,\n",
    "        num_results=5,\n",
    "        output_ids=True\n",
    "    )\n",
    "\n",
    "    return results"
   ]
  },
  {
   "cell_type": "code",
   "execution_count": 6,
   "id": "5f9e2680",
   "metadata": {},
   "outputs": [],
   "source": [
    "prompt_template = \"\"\"\n",
    "You're a course teaching assistant. Answer the QUESTION based on the CONTEXT from the FAQ database.\n",
    "Use only the facts from the CONTEXT when answering the QUESTION.\n",
    "\n",
    "<QUESTION>\n",
    "{question}\n",
    "</QUESTION>\n",
    "\n",
    "<CONTEXT>\n",
    "{context}\n",
    "</CONTEXT>\n",
    "\"\"\".strip()\n",
    "\n",
    "def build_prompt(query, search_results):\n",
    "    context = \"\"\n",
    "\n",
    "    for doc in search_results:\n",
    "        context = context + f\"section: {doc['section']}\\nquestion: {doc['question']}\\nanswer: {doc['text']}\\n\\n\"\n",
    "    \n",
    "    prompt = prompt_template.format(question=query, context=context).strip()\n",
    "    # print(prompt)\n",
    "    return prompt"
   ]
  },
  {
   "cell_type": "code",
   "execution_count": 7,
   "id": "c5ab16d1",
   "metadata": {},
   "outputs": [],
   "source": [
    "from together import Together\n",
    "\n",
    "client = Together()\n",
    "def llm(prompt):\n",
    "    response = client.chat.completions.create(\n",
    "        model= 'meta-llama/Llama-3.3-70B-Instruct-Turbo-Free',\n",
    "        # model=\"deepseek-ai/DeepSeek-R1-Distill-Llama-70B-free\",\n",
    "        messages=[\n",
    "        {\n",
    "            \"role\": \"user\",\n",
    "            \"content\": prompt\n",
    "        }\n",
    "        ],\n",
    "        # response_format='json'\n",
    "    )\n",
    "    return response.choices[0].message.content"
   ]
  },
  {
   "cell_type": "code",
   "execution_count": 8,
   "id": "f09dd425",
   "metadata": {},
   "outputs": [],
   "source": [
    "def rag(query):\n",
    "    search_results = search(query)\n",
    "    prompt = build_prompt(query, search_results)\n",
    "    # print(prompt)\n",
    "    answer = llm(prompt)\n",
    "    return answer"
   ]
  },
  {
   "cell_type": "code",
   "execution_count": 9,
   "id": "176b8c21",
   "metadata": {},
   "outputs": [
    {
     "name": "stdout",
     "output_type": "stream",
     "text": [
      "Yes, you can still join the course after the start date and you are eligible to submit homework. However, to get a certificate, you need to finish the course with a \"live\" cohort, which implies that you should join the course while it is still running, as certificates are not awarded for the self-paced mode.\n"
     ]
    }
   ],
   "source": [
    "print(rag(query=\"Can i get certificate if I join the course now?\"))"
   ]
  },
  {
   "cell_type": "markdown",
   "id": "8a6f31f9",
   "metadata": {},
   "source": [
    "## Agentic Rag"
   ]
  },
  {
   "cell_type": "code",
   "execution_count": 10,
   "id": "f19d1cdd",
   "metadata": {},
   "outputs": [],
   "source": [
    "prompt_template = \"\"\"\n",
    "You're a course teaching assistant.\n",
    "\n",
    "You're given a QUESTION from a course student and that you need to answer with your own knowledge and provided CONTEXT.\n",
    "At the beginning the context is EMPTY.\n",
    "\n",
    "You MUST respond in one of the three EXACT JSON templates shown below.\n",
    "\n",
    "Do NOT include any explanations, thoughts, or text outside the JSON block.\n",
    "\n",
    "<QUESTION>\n",
    "{question}\n",
    "</QUESTION>\n",
    "\n",
    "<CONTEXT> \n",
    "{context}\n",
    "</CONTEXT>\n",
    "\n",
    "If CONTEXT is EMPTY, you can use our FAQ database.\n",
    "In this case, use the following output template:\n",
    "\n",
    "{{\n",
    "\"action\": \"SEARCH\",\n",
    "\"reasoning\": \"<add your reasoning here>\"\n",
    "}}\n",
    "\n",
    "If you can answer the QUESTION using CONTEXT, use this template:\n",
    "\n",
    "{{\n",
    "\"action\": \"ANSWER\",\n",
    "\"answer\": \"<your answer>\",\n",
    "\"source\": \"CONTEXT\"\n",
    "}}\n",
    "\n",
    "If the context doesn't contain the answer, use your own knowledge to answer the question\n",
    "\n",
    "{{\n",
    "\"action\": \"ANSWER\",\n",
    "\"answer\": \"<your answer>\",\n",
    "\"source\": \"OWN_KNOWLEDGE\"\n",
    "}}\n",
    "\"\"\".strip()"
   ]
  },
  {
   "cell_type": "code",
   "execution_count": 11,
   "id": "e5c131f3",
   "metadata": {},
   "outputs": [
    {
     "name": "stdout",
     "output_type": "stream",
     "text": [
      "{\n",
      "\"action\": \"SEARCH\",\n",
      "\"reasoning\": \"The context is empty, so I need to search the FAQ database to find out how to join the course.\"\n",
      "}\n"
     ]
    }
   ],
   "source": [
    "question = \"how do I join the course now?\"\n",
    "context = \"EMPTY\"\n",
    "\n",
    "prompt = prompt_template.format(question=question, context=context)\n",
    "# print(prompt)\n",
    "\n",
    "answer = llm(prompt)\n",
    "print(answer)"
   ]
  },
  {
   "cell_type": "code",
   "execution_count": 12,
   "id": "713961f7",
   "metadata": {},
   "outputs": [
    {
     "name": "stdout",
     "output_type": "stream",
     "text": [
      "You're a course teaching assistant.\n",
      "\n",
      "You're given a QUESTION from a course student and that you need to answer with your own knowledge and provided CONTEXT.\n",
      "At the beginning the context is EMPTY.\n",
      "\n",
      "You MUST respond in one of the three EXACT JSON templates shown below.\n",
      "\n",
      "Do NOT include any explanations, thoughts, or text outside the JSON block.\n",
      "\n",
      "<QUESTION>\n",
      "how do I join the course now?\n",
      "</QUESTION>\n",
      "\n",
      "<CONTEXT> \n",
      "section: General course-related questions\n",
      "question: Course - Can I still join the course after the start date?\n",
      "answer: Yes, even if you don't register, you're still eligible to submit the homeworks.\n",
      "Be aware, however, that there will be deadlines for turning in the final projects. So don't leave everything for the last minute.\n",
      "\n",
      "section: General course-related questions\n",
      "question: Course - When will the course start?\n",
      "answer: The purpose of this document is to capture frequently asked technical questions\n",
      "The exact day and hour of the course will be 15th Jan 2024 at 17h00. The course will start with the first  “Office Hours'' live.1\n",
      "Subscribe to course public Google Calendar (it works from Desktop only).\n",
      "Register before the course starts using this link.\n",
      "Join the course Telegram channel with announcements.\n",
      "Don’t forget to register in DataTalks.Club's Slack and join the channel.\n",
      "\n",
      "section: General course-related questions\n",
      "question: Course - Can I follow the course after it finishes?\n",
      "answer: Yes, we will keep all the materials after the course finishes, so you can follow the course at your own pace after it finishes.\n",
      "You can also continue looking at the homeworks and continue preparing for the next cohort. I guess you can also start working on your final capstone project.\n",
      "\n",
      "section: General course-related questions\n",
      "question: Certificate - Can I follow the course in a self-paced mode and get a certificate?\n",
      "answer: No, you can only get a certificate if you finish the course with a “live” cohort. We don't award certificates for the self-paced mode. The reason is you need to peer-review capstone(s) after submitting a project. You can only peer-review projects at the time the course is running.\n",
      "\n",
      "section: General course-related questions\n",
      "question: How do I use Git / GitHub for this course?\n",
      "answer: After you create a GitHub account, you should clone the course repo to your local machine using the process outlined in this video: Git for Everybody: How to Clone a Repository from GitHub\n",
      "Having this local repository on your computer will make it easy for you to access the instructors’ code and make pull requests (if you want to add your own notes or make changes to the course content).\n",
      "You will probably also create your own repositories that host your notes, versions of your file, to do this. Here is a great tutorial that shows you how to do this: https://www.atlassian.com/git/tutorials/setting-up-a-repository\n",
      "Remember to ignore large database, .csv, and .gz files, and other files that should not be saved to a repository. Use .gitignore for this: https://www.atlassian.com/git/tutorials/saving-changes/gitignore NEVER store passwords or keys in a git repo (even if that repo is set to private).\n",
      "This is also a great resource: https://dangitgit.com/\n",
      "</CONTEXT>\n",
      "\n",
      "If CONTEXT is EMPTY, you can use our FAQ database.\n",
      "In this case, use the following output template:\n",
      "\n",
      "{\n",
      "\"action\": \"SEARCH\",\n",
      "\"reasoning\": \"<add your reasoning here>\"\n",
      "}\n",
      "\n",
      "If you can answer the QUESTION using CONTEXT, use this template:\n",
      "\n",
      "{\n",
      "\"action\": \"ANSWER\",\n",
      "\"answer\": \"<your answer>\",\n",
      "\"source\": \"CONTEXT\"\n",
      "}\n",
      "\n",
      "If the context doesn't contain the answer, use your own knowledge to answer the question\n",
      "\n",
      "{\n",
      "\"action\": \"ANSWER\",\n",
      "\"answer\": \"<your answer>\",\n",
      "\"source\": \"OWN_KNOWLEDGE\"\n",
      "}\n"
     ]
    }
   ],
   "source": [
    "def build_context(search_results):\n",
    "    context = \"\"\n",
    "\n",
    "    for doc in search_results:\n",
    "        context = context + f\"section: {doc['section']}\\nquestion: {doc['question']}\\nanswer: {doc['text']}\\n\\n\"\n",
    "\n",
    "    return context.strip()\n",
    "\n",
    "search_results = search(question)\n",
    "context = build_context(search_results)\n",
    "prompt = prompt_template.format(question=question, context=context)\n",
    "print(prompt)"
   ]
  },
  {
   "cell_type": "code",
   "execution_count": 13,
   "id": "3dbf7f7b",
   "metadata": {},
   "outputs": [
    {
     "name": "stdout",
     "output_type": "stream",
     "text": [
      "{\n",
      "\"action\": \"ANSWER\",\n",
      "\"answer\": \"To join the course, you should register before the course starts using the provided link, subscribe to the course public Google Calendar, and join the course Telegram channel with announcements. Don't forget to register in DataTalks.Club's Slack and join the channel.\",\n",
      "\"source\": \"CONTEXT\"\n",
      "}\n"
     ]
    }
   ],
   "source": [
    "answer = llm(prompt)\n",
    "print(answer)"
   ]
  },
  {
   "cell_type": "code",
   "execution_count": 14,
   "id": "fc51d81e",
   "metadata": {},
   "outputs": [],
   "source": [
    "import json\n",
    "def agentic_rag_v1(question):\n",
    "    context = \"EMPTY\"\n",
    "    prompt = prompt_template.format(question=question, context=context)\n",
    "    answer_json = llm(prompt)\n",
    "    answer = json.loads(answer_json)\n",
    "    print(answer)\n",
    "\n",
    "    if answer['action'] == 'SEARCH':\n",
    "        print('need to perform search...')\n",
    "        search_results = search(question)\n",
    "        context = build_context(search_results)\n",
    "        \n",
    "        prompt = prompt_template.format(question=question, context=context)\n",
    "        answer_json = llm(prompt)\n",
    "        answer = json.loads(answer_json)\n",
    "        print(answer)\n",
    "\n",
    "    return answer"
   ]
  },
  {
   "cell_type": "code",
   "execution_count": 15,
   "id": "b8a91ecc",
   "metadata": {},
   "outputs": [
    {
     "name": "stdout",
     "output_type": "stream",
     "text": [
      "{'action': 'ANSWER', 'answer': \"To run Terraform in GCP, you can use the Google Cloud Shell or install Terraform on a GCP VM. First, install Terraform and the Google Cloud SDK. Then, set up your GCP credentials and configure your Terraform configuration files to use the GCP provider. Finally, run 'terraform init', 'terraform plan', and 'terraform apply' to deploy your infrastructure.\", 'source': 'OWN_KNOWLEDGE'}\n",
      "{'action': 'SEARCH', 'reasoning': 'The context is empty, so I need to search the FAQ database to find the steps to join the course.'}\n",
      "need to perform search...\n",
      "{'action': 'ANSWER', 'answer': 'You can join the course by registering before the course starts using the provided link, and then join the course Telegram channel with announcements. You can also start learning and submitting homework without registering, as registration is just to gauge interest before the start date.', 'source': 'CONTEXT'}\n"
     ]
    },
    {
     "data": {
      "text/plain": [
       "{'action': 'ANSWER',\n",
       " 'answer': 'You can join the course by registering before the course starts using the provided link, and then join the course Telegram channel with announcements. You can also start learning and submitting homework without registering, as registration is just to gauge interest before the start date.',\n",
       " 'source': 'CONTEXT'}"
      ]
     },
     "execution_count": 15,
     "metadata": {},
     "output_type": "execute_result"
    }
   ],
   "source": [
    "agentic_rag_v1(question=\"How can i run terraform in GCP?\")\n",
    "agentic_rag_v1(question=\"How can i join the course\")"
   ]
  },
  {
   "cell_type": "markdown",
   "id": "a74a023f",
   "metadata": {},
   "source": [
    "## Agentic search"
   ]
  },
  {
   "cell_type": "code",
   "execution_count": 21,
   "id": "3f8029d9",
   "metadata": {},
   "outputs": [],
   "source": [
    "prompt_template = \"\"\"\n",
    "You're a course teaching assistant.\n",
    "\n",
    "You're given a QUESTION from a course student and that you need to answer with your own knowledge and provided CONTEXT.\n",
    "\n",
    "You MUST respond in one of the three EXACT JSON templates shown below.\n",
    "\n",
    "Do NOT include any explanations, thoughts, or text outside the JSON block.\n",
    "\n",
    "The CONTEXT is build with the documents from our FAQ database.\n",
    "SEARCH_QUERIES contains the queries that were used to retrieve the documents\n",
    "from FAQ to and add them to the context.\n",
    "PREVIOUS_ACTIONS contains the actions you already performed.\n",
    "\n",
    "At the beginning the CONTEXT is empty.\n",
    "\n",
    "You can perform the following actions:\n",
    "\n",
    "- Search in the FAQ database to get more data for the CONTEXT\n",
    "- Answer the question using the CONTEXT\n",
    "- Answer the question using your own knowledge\n",
    "\n",
    "For the SEARCH action, build search requests based on the CONTEXT and the QUESTION.\n",
    "Carefully analyze the CONTEXT and generate the requests to deeply explore the topic. \n",
    "\n",
    "Don't use search queries used at the previous iterations.\n",
    "\n",
    "Don't repeat previously performed actions.\n",
    "\n",
    "Don't perform more than {max_iterations} iterations for a given student question.\n",
    "The current iteration number: {iteration_number}. If we exceed the allowed number \n",
    "of iterations, give the best possible answer with the provided information.\n",
    "\n",
    "Output templates:\n",
    "\n",
    "If you want to perform search, use this template:\n",
    "\n",
    "{{\n",
    "\"action\": \"SEARCH\",\n",
    "\"reasoning\": \"<add your reasoning here>\",\n",
    "\"keywords\": [\"search query 1\", \"search query 2\", ...]\n",
    "}}\n",
    "\n",
    "If you can answer the QUESTION using CONTEXT, use this template:\n",
    "\n",
    "{{\n",
    "\"action\": \"ANSWER_CONTEXT\",\n",
    "\"answer\": \"<your answer>\",\n",
    "\"source\": \"CONTEXT\"\n",
    "}}\n",
    "\n",
    "If the context doesn't contain the answer, use your own knowledge to answer the question\n",
    "\n",
    "{{\n",
    "\"action\": \"ANSWER\",\n",
    "\"answer\": \"<your answer>\",\n",
    "\"source\": \"OWN_KNOWLEDGE\"\n",
    "}}\n",
    "\n",
    "<QUESTION>\n",
    "{question}\n",
    "</QUESTION>\n",
    "\n",
    "<SEARCH_QUERIES>\n",
    "{search_queries}\n",
    "</SEARCH_QUERIES>\n",
    "\n",
    "<CONTEXT> \n",
    "{context}\n",
    "</CONTEXT>\n",
    "\n",
    "<PREVIOUS_ACTIONS>\n",
    "{previous_actions}\n",
    "</PREVIOUS_ACTIONS>\n",
    "\"\"\".strip()"
   ]
  },
  {
   "cell_type": "code",
   "execution_count": 22,
   "id": "5df8b9fc",
   "metadata": {},
   "outputs": [
    {
     "name": "stdout",
     "output_type": "stream",
     "text": [
      "You're a course teaching assistant.\n",
      "\n",
      "You're given a QUESTION from a course student and that you need to answer with your own knowledge and provided CONTEXT.\n",
      "\n",
      "You MUST respond in one of the three EXACT JSON templates shown below.\n",
      "\n",
      "Do NOT include any explanations, thoughts, or text outside the JSON block.\n",
      "\n",
      "The CONTEXT is build with the documents from our FAQ database.\n",
      "SEARCH_QUERIES contains the queries that were used to retrieve the documents\n",
      "from FAQ to and add them to the context.\n",
      "PREVIOUS_ACTIONS contains the actions you already performed.\n",
      "\n",
      "At the beginning the CONTEXT is empty.\n",
      "\n",
      "You can perform the following actions:\n",
      "\n",
      "- Search in the FAQ database to get more data for the CONTEXT\n",
      "- Answer the question using the CONTEXT\n",
      "- Answer the question using your own knowledge\n",
      "\n",
      "For the SEARCH action, build search requests based on the CONTEXT and the QUESTION.\n",
      "Carefully analyze the CONTEXT and generate the requests to deeply explore the topic. \n",
      "\n",
      "Don't use search queries used at the previous iterations.\n",
      "\n",
      "Don't repeat previously performed actions.\n",
      "\n",
      "Don't perform more than 3 iterations for a given student question.\n",
      "The current iteration number: 1. If we exceed the allowed number \n",
      "of iterations, give the best possible answer with the provided information.\n",
      "\n",
      "Output templates:\n",
      "\n",
      "If you want to perform search, use this template:\n",
      "\n",
      "{\n",
      "\"action\": \"SEARCH\",\n",
      "\"reasoning\": \"<add your reasoning here>\",\n",
      "\"keywords\": [\"search query 1\", \"search query 2\", ...]\n",
      "}\n",
      "\n",
      "If you can answer the QUESTION using CONTEXT, use this template:\n",
      "\n",
      "{\n",
      "\"action\": \"ANSWER_CONTEXT\",\n",
      "\"answer\": \"<your answer>\",\n",
      "\"source\": \"CONTEXT\"\n",
      "}\n",
      "\n",
      "If the context doesn't contain the answer, use your own knowledge to answer the question\n",
      "\n",
      "{\n",
      "\"action\": \"ANSWER\",\n",
      "\"answer\": \"<your answer>\",\n",
      "\"source\": \"OWN_KNOWLEDGE\"\n",
      "}\n",
      "\n",
      "<QUESTION>\n",
      "how do I join the course?\n",
      "</QUESTION>\n",
      "\n",
      "<SEARCH_QUERIES>\n",
      "\n",
      "</SEARCH_QUERIES>\n",
      "\n",
      "<CONTEXT> \n",
      "\n",
      "</CONTEXT>\n",
      "\n",
      "<PREVIOUS_ACTIONS>\n",
      "\n",
      "</PREVIOUS_ACTIONS>\n"
     ]
    }
   ],
   "source": [
    "question = \"how do I join the course?\"\n",
    "\n",
    "search_queries = []\n",
    "search_results = []\n",
    "previous_actions = []\n",
    "context = build_context(search_results)\n",
    "\n",
    "prompt = prompt_template.format(\n",
    "    question=question,\n",
    "    context=context,\n",
    "    search_queries=\"\\n\".join(search_queries),\n",
    "    previous_actions='\\n'.join([json.dumps(a) for a in previous_actions]),\n",
    "    max_iterations=3,\n",
    "    iteration_number=1\n",
    ")\n",
    "print(prompt)"
   ]
  },
  {
   "cell_type": "code",
   "execution_count": 23,
   "id": "8cc3a055",
   "metadata": {},
   "outputs": [
    {
     "name": "stdout",
     "output_type": "stream",
     "text": [
      "{\n",
      "  \"action\": \"SEARCH\",\n",
      "  \"reasoning\": \"The question is about joining a course, so I need to search for relevant information in the FAQ database to provide a helpful answer. I'll use search queries related to course enrollment and registration.\",\n",
      "  \"keywords\": [\n",
      "    \"course enrollment\",\n",
      "    \"registration process\",\n",
      "    \"joining a course\"\n",
      "  ]\n",
      "}\n"
     ]
    }
   ],
   "source": [
    "answer_json = llm(prompt)\n",
    "answer = json.loads(answer_json)\n",
    "print(json.dumps(answer, indent=2))"
   ]
  },
  {
   "cell_type": "code",
   "execution_count": 26,
   "id": "b64fd078",
   "metadata": {},
   "outputs": [],
   "source": [
    "previous_actions.append(answer)"
   ]
  },
  {
   "cell_type": "code",
   "execution_count": 27,
   "id": "d89af369",
   "metadata": {},
   "outputs": [],
   "source": [
    "keywords = answer['keywords']\n",
    "search_queries.extend(keywords)\n",
    "\n",
    "# And perform the search:\n",
    "\n",
    "for k in keywords:\n",
    "    res = search(k)\n",
    "    search_results.extend(res)"
   ]
  },
  {
   "cell_type": "code",
   "execution_count": 28,
   "id": "3e8dde06",
   "metadata": {},
   "outputs": [],
   "source": [
    "def dedup(seq):\n",
    "    seen = set()\n",
    "    result = []\n",
    "    for el in seq:\n",
    "        _id = el['_id']\n",
    "        if _id in seen:\n",
    "            continue\n",
    "        seen.add(_id)\n",
    "        result.append(el)\n",
    "    return result\n",
    "\n",
    "search_results = dedup(search_results)"
   ]
  },
  {
   "cell_type": "code",
   "execution_count": 29,
   "id": "7e75d4e9",
   "metadata": {},
   "outputs": [
    {
     "name": "stdout",
     "output_type": "stream",
     "text": [
      "You're a course teaching assistant.\n",
      "\n",
      "You're given a QUESTION from a course student and that you need to answer with your own knowledge and provided CONTEXT.\n",
      "\n",
      "You MUST respond in one of the three EXACT JSON templates shown below.\n",
      "\n",
      "Do NOT include any explanations, thoughts, or text outside the JSON block.\n",
      "\n",
      "The CONTEXT is build with the documents from our FAQ database.\n",
      "SEARCH_QUERIES contains the queries that were used to retrieve the documents\n",
      "from FAQ to and add them to the context.\n",
      "PREVIOUS_ACTIONS contains the actions you already performed.\n",
      "\n",
      "At the beginning the CONTEXT is empty.\n",
      "\n",
      "You can perform the following actions:\n",
      "\n",
      "- Search in the FAQ database to get more data for the CONTEXT\n",
      "- Answer the question using the CONTEXT\n",
      "- Answer the question using your own knowledge\n",
      "\n",
      "For the SEARCH action, build search requests based on the CONTEXT and the QUESTION.\n",
      "Carefully analyze the CONTEXT and generate the requests to deeply explore the topic. \n",
      "\n",
      "Don't use search queries used at the previous iterations.\n",
      "\n",
      "Don't repeat previously performed actions.\n",
      "\n",
      "Don't perform more than 3 iterations for a given student question.\n",
      "The current iteration number: 2. If we exceed the allowed number \n",
      "of iterations, give the best possible answer with the provided information.\n",
      "\n",
      "Output templates:\n",
      "\n",
      "If you want to perform search, use this template:\n",
      "\n",
      "{\n",
      "\"action\": \"SEARCH\",\n",
      "\"reasoning\": \"<add your reasoning here>\",\n",
      "\"keywords\": [\"search query 1\", \"search query 2\", ...]\n",
      "}\n",
      "\n",
      "If you can answer the QUESTION using CONTEXT, use this template:\n",
      "\n",
      "{\n",
      "\"action\": \"ANSWER_CONTEXT\",\n",
      "\"answer\": \"<your answer>\",\n",
      "\"source\": \"CONTEXT\"\n",
      "}\n",
      "\n",
      "If the context doesn't contain the answer, use your own knowledge to answer the question\n",
      "\n",
      "{\n",
      "\"action\": \"ANSWER\",\n",
      "\"answer\": \"<your answer>\",\n",
      "\"source\": \"OWN_KNOWLEDGE\"\n",
      "}\n",
      "\n",
      "<QUESTION>\n",
      "how do I join the course?\n",
      "</QUESTION>\n",
      "\n",
      "<SEARCH_QUERIES>\n",
      "course enrollment\n",
      "registration process\n",
      "joining a course\n",
      "</SEARCH_QUERIES>\n",
      "\n",
      "<CONTEXT> \n",
      "section: General course-related questions\n",
      "question: Course - When will the course start?\n",
      "answer: The purpose of this document is to capture frequently asked technical questions\n",
      "The exact day and hour of the course will be 15th Jan 2024 at 17h00. The course will start with the first  “Office Hours'' live.1\n",
      "Subscribe to course public Google Calendar (it works from Desktop only).\n",
      "Register before the course starts using this link.\n",
      "Join the course Telegram channel with announcements.\n",
      "Don’t forget to register in DataTalks.Club's Slack and join the channel.\n",
      "\n",
      "section: General course-related questions\n",
      "question: Course - Can I follow the course after it finishes?\n",
      "answer: Yes, we will keep all the materials after the course finishes, so you can follow the course at your own pace after it finishes.\n",
      "You can also continue looking at the homeworks and continue preparing for the next cohort. I guess you can also start working on your final capstone project.\n",
      "\n",
      "section: General course-related questions\n",
      "question: Certificate - Can I follow the course in a self-paced mode and get a certificate?\n",
      "answer: No, you can only get a certificate if you finish the course with a “live” cohort. We don't award certificates for the self-paced mode. The reason is you need to peer-review capstone(s) after submitting a project. You can only peer-review projects at the time the course is running.\n",
      "\n",
      "section: General course-related questions\n",
      "question: Is it possible to use tool “X” instead of the one tool you use in the course?\n",
      "answer: Yes, this applies if you want to use Airflow or Prefect instead of Mage, AWS or Snowflake instead of GCP products or Tableau instead of Metabase or Google data studio.\n",
      "The course covers 2 alternative data stacks, one using GCP and one using local installation of everything. You can use one of them or use your tool of choice.\n",
      "Should you consider it instead of the one tool you use? That we can’t support you if you choose to use a different stack, also you would need to explain the different choices of tool for the peer review of your capstone project.\n",
      "\n",
      "section: General course-related questions\n",
      "question: How do I use Git / GitHub for this course?\n",
      "answer: After you create a GitHub account, you should clone the course repo to your local machine using the process outlined in this video: Git for Everybody: How to Clone a Repository from GitHub\n",
      "Having this local repository on your computer will make it easy for you to access the instructors’ code and make pull requests (if you want to add your own notes or make changes to the course content).\n",
      "You will probably also create your own repositories that host your notes, versions of your file, to do this. Here is a great tutorial that shows you how to do this: https://www.atlassian.com/git/tutorials/setting-up-a-repository\n",
      "Remember to ignore large database, .csv, and .gz files, and other files that should not be saved to a repository. Use .gitignore for this: https://www.atlassian.com/git/tutorials/saving-changes/gitignore NEVER store passwords or keys in a git repo (even if that repo is set to private).\n",
      "This is also a great resource: https://dangitgit.com/\n",
      "\n",
      "section: Module 5: pyspark\n",
      "question: lsRuntimeError: Java gateway process exited before sending its port number\n",
      "answer: After installing all including pyspark (and it is successfully imported), but then running this script on the jupyter notebook\n",
      "import pyspark\n",
      "from pyspark.sql import SparkSession\n",
      "spark = SparkSession.builder \\\n",
      ".master(\"local[*]\") \\\n",
      ".appName('test') \\\n",
      ".getOrCreate()\n",
      "df = spark.read \\\n",
      ".option(\"header\", \"true\") \\\n",
      ".csv('taxi+_zone_lookup.csv')\n",
      "df.show()\n",
      "it gives the error:\n",
      "RuntimeError: Java gateway process exited before sending its port number\n",
      "✅The solution (for me) was:\n",
      "pip install findspark on the command line and then\n",
      "Add\n",
      "import findspark\n",
      "findspark.init()\n",
      "to the top of the script.\n",
      "Another possible solution is:\n",
      "Check that pyspark is pointing to the correct location.\n",
      "Run pyspark.__file__. It should be list /home/<your user name>/spark/spark-3.0.3-bin-hadoop3.2/python/pyspark/__init__.py if you followed the videos.\n",
      "If it is pointing to your python site-packages remove the pyspark directory there and check that you have added the correct exports to you .bashrc file and that there are not any other exports which might supersede the ones provided in the course content.\n",
      "To add to the solution above, if the errors persist in regards to setting the correct path for spark,  an alternative solution for permanent path setting solve the error is  to set environment variables on system and user environment variables following this tutorial: Install Apache PySpark on Windows PC | Apache Spark Installation Guide\n",
      "Once everything is installed, skip to 7:14 to set up environment variables. This allows for the environment variables to be set permanently.\n",
      "\n",
      "section: Module 2: Workflow Orchestration\n",
      "question: Process to download the VSC using Pandas is killed right away\n",
      "answer: pd.read_csv\n",
      "df_iter = pd.read_csv(dataset_url, iterator=True, chunksize=100000)\n",
      "The data needs to be appended to the parquet file using the fastparquet engine\n",
      "df.to_parquet(path, compression=\"gzip\", engine='fastparquet', append=True)\n",
      "\n",
      "section: General course-related questions\n",
      "question: Course - I have registered for the Data Engineering Bootcamp. When can I expect to receive the confirmation email?\n",
      "answer: You don't need it. You're accepted. You can also just start learning and submitting homework without registering. It is not checked against any registered list. Registration is just to gauge interest before the start date.\n",
      "\n",
      "section: Module 2: Workflow Orchestration\n",
      "question: GCP - 2.2.7d Part 2 - Getting error when you run terraform apply\n",
      "answer: If you get the following error\n",
      "You have to edit variables.tf on the gcp folder, set your project-id and region and zones properly. Then, run terraform apply again.\n",
      "You can find correct regions/zones here: https://cloud.google.com/compute/docs/regions-zones\n",
      "Deploying MAGE to GCP  with Terraform via the VM (2.2.7)\n",
      "FYI - It can take up to 20 minutes to deploy the MAGE Terraform files if you are using a GCP Virtual Machine. It is normal, so don’t interrupt the process or think it’s taking too long. If you have, make sure you run a terraform destroy before trying again as you will have likely partially created resources which will cause errors next time you run `terraform apply`.\n",
      "`terraform destroy` may not completely delete partial resources - go to Google Cloud Console and use the search bar at the top to search for the ‘app.name’ you declared in your variables.tf file; this will list all resources with that name - make sure you delete them all before running `terraform apply` again.\n",
      "Why are my GCP free credits going so fast? MAGE .tf files - Terraform Destroy not destroying all Resources\n",
      "I checked my GCP billing last night & the MAGE Terraform IaC didn't destroy a GCP Resource called Filestore as ‘mage-data-prep- it has been costing £5.01 of my free credits each day  I now have £151 left - Alexey has assured me that This amount WILL BE SUFFICIENT funds to finish the course. Note to anyone who had issues deploying the MAGE terraform code: check your billing account to see what you're being charged for (main menu - billing) (even if it's your free credits) and run a search for 'mage-data-prep' in the top bar just to be sure that your resources have been destroyed - if any come up delete them.\n",
      "</CONTEXT>\n",
      "\n",
      "<PREVIOUS_ACTIONS>\n",
      "{\"action\": \"SEARCH\", \"reasoning\": \"The question is about joining a course, so I need to search for relevant information in the FAQ database to provide a helpful answer. I'll use search queries related to course enrollment and registration.\", \"keywords\": [\"course enrollment\", \"registration process\", \"joining a course\"]}\n",
      "</PREVIOUS_ACTIONS>\n",
      "{\n",
      "  \"action\": \"ANSWER_CONTEXT\",\n",
      "  \"answer\": \"To join the course, you can register before the course starts using the provided link, and then subscribe to the course public Google Calendar. You should also join the course Telegram channel with announcements and register in DataTalks.Club's Slack and join the channel.\",\n",
      "  \"source\": \"CONTEXT\"\n",
      "}\n"
     ]
    }
   ],
   "source": [
    "context = build_context(search_results)\n",
    "\n",
    "prompt = prompt_template.format(\n",
    "    question=question,\n",
    "    context=context,\n",
    "    search_queries=\"\\n\".join(search_queries),\n",
    "    previous_actions='\\n'.join([json.dumps(a) for a in previous_actions]),\n",
    "    max_iterations=3,\n",
    "    iteration_number=2\n",
    ")\n",
    "print(prompt)\n",
    "\n",
    "answer_json = llm(prompt)\n",
    "answer = json.loads(answer_json)\n",
    "print(json.dumps(answer, indent=2))"
   ]
  },
  {
   "cell_type": "code",
   "execution_count": 32,
   "id": "98065906",
   "metadata": {},
   "outputs": [],
   "source": [
    "def agentic_search(question):\n",
    "    search_queries = []\n",
    "    search_results = []\n",
    "    previous_actions = []\n",
    "\n",
    "    iteration = 0\n",
    "    \n",
    "    while True:\n",
    "        print(f'ITERATION #{iteration}...')\n",
    "    \n",
    "        context = build_context(search_results)\n",
    "        prompt = prompt_template.format(\n",
    "            question=question,\n",
    "            context=context,\n",
    "            search_queries=\"\\n\".join(search_queries),\n",
    "            previous_actions='\\n'.join([json.dumps(a) for a in previous_actions]),\n",
    "            max_iterations=3,\n",
    "            iteration_number=iteration\n",
    "        )\n",
    "    \n",
    "        # print(prompt)\n",
    "    \n",
    "        answer_json = llm(prompt)\n",
    "        answer = json.loads(answer_json)\n",
    "        # print(json.dumps(answer, indent=2))\n",
    "\n",
    "        previous_actions.append(answer)\n",
    "    \n",
    "        action = answer['action']\n",
    "        if action != 'SEARCH':\n",
    "            break\n",
    "    \n",
    "        keywords = answer['keywords']\n",
    "        search_queries = list(set(search_queries) | set(keywords))\n",
    "\n",
    "        for k in keywords:\n",
    "            res = search(k)\n",
    "            search_results.extend(res)\n",
    "    \n",
    "        search_results = dedup(search_results)\n",
    "        \n",
    "        iteration = iteration + 1\n",
    "        if iteration >= 4:\n",
    "            break\n",
    "    \n",
    "        print()\n",
    "\n",
    "    return answer"
   ]
  },
  {
   "cell_type": "code",
   "execution_count": 33,
   "id": "c3fdc834",
   "metadata": {},
   "outputs": [
    {
     "name": "stdout",
     "output_type": "stream",
     "text": [
      "ITERATION #0...\n",
      "\n",
      "ITERATION #1...\n",
      "{'action': 'ANSWER', 'answer': \"To do well in Module 1 of the course, it's essential to have a good understanding of the prerequisites and syllabus. Make sure you have installed and set up all the dependencies and requirements, including a Google cloud account, Google Cloud SDK, Python 3, Terraform, and Git. It's also crucial to look over the course outline and requirements for Module 1, which includes Docker and Terraform. You can find more specific information and tips in the CONTEXT provided, such as solutions to common errors like ModuleNotFoundError for psycopg2 or py4j. Additionally, following the course materials, participating in discussions, and completing assignments on time will help you stay on track and perform well in the module.\", 'source': 'OWN_KNOWLEDGE'}\n"
     ]
    }
   ],
   "source": [
    "print(agentic_search(question=\"How can i do well in Module 1 of the course?\"))"
   ]
  },
  {
   "cell_type": "markdown",
   "id": "f20fc02f",
   "metadata": {},
   "source": [
    "## Function calling"
   ]
  },
  {
   "cell_type": "code",
   "execution_count": 43,
   "id": "fa24b778",
   "metadata": {},
   "outputs": [],
   "source": [
    "search_tool = {\n",
    "    \"type\": \"function\",\n",
    "    \"function\":{\n",
    "    \"name\": \"search\",\n",
    "    \"description\": \"Search the FAQ database\",\n",
    "    \"parameters\": {\n",
    "        \"type\": \"object\",\n",
    "        \"properties\": {\n",
    "            \"query\": {\n",
    "                \"type\": \"string\",\n",
    "                \"description\": \"Search query text to look up in the course FAQ.\"\n",
    "            }\n",
    "        },\n",
    "        \"required\": [\"query\"],\n",
    "        \"additionalProperties\": False\n",
    "    }\n",
    "}\n",
    "}"
   ]
  },
  {
   "cell_type": "code",
   "execution_count": 97,
   "id": "bf76b9e3",
   "metadata": {},
   "outputs": [
    {
     "name": "stdout",
     "output_type": "stream",
     "text": [
      "id='o3ZUyM8-4Yz4kd-9611d4b81a7d0e6e' object=<ObjectType.ChatCompletion: 'chat.completion'> created=1752840156 model='meta-llama/Llama-3.3-70B-Instruct-Turbo-Free' choices=[ChatCompletionChoicesData(index=0, logprobs=None, seed=11789080685737837000, finish_reason=<FinishReason.ToolCalls: 'tool_calls'>, message=ChatCompletionMessage(role=<MessageRole.ASSISTANT: 'assistant'>, content=None, tool_calls=[ToolCalls(id='call_yvghg0k0zdu1nv7jw5ezzaac', type='function', function=FunctionCall(name='search', arguments='{\"query\":\"How can I do well in Module 1 of the course?\"}'), index=0)]))] prompt=[] usage=UsageData(prompt_tokens=231, completion_tokens=28, total_tokens=259, cached_tokens=0)\n"
     ]
    }
   ],
   "source": [
    "question = \"How can i do well in Module 1 of the course?\"\n",
    "\n",
    "developer_prompt = \"\"\"\n",
    "You're a course teaching assistant. \n",
    "You're given a question from a course student and your task is to answer it.\n",
    "\"\"\".strip()\n",
    "\n",
    "tools = [search_tool]\n",
    "\n",
    "chat_messages = [\n",
    "    {\"role\": \"system\", \"content\": developer_prompt},\n",
    "    {\"role\": \"user\", \"content\": question}\n",
    "]\n",
    "# client = Together()\n",
    "response = client.chat.completions.create(\n",
    "        model= 'meta-llama/Llama-3.3-70B-Instruct-Turbo-Free',\n",
    "        messages=chat_messages,\n",
    "        tools=tools\n",
    ")\n",
    "print(response)"
   ]
  },
  {
   "cell_type": "code",
   "execution_count": null,
   "id": "e754218f",
   "metadata": {},
   "outputs": [
    {
     "data": {
      "text/plain": [
       "ChatCompletionMessage(role=<MessageRole.ASSISTANT: 'assistant'>, content=None, tool_calls=[ToolCalls(id='call_yvghg0k0zdu1nv7jw5ezzaac', type='function', function=FunctionCall(name='search', arguments='{\"query\":\"How can I do well in Module 1 of the course?\"}'), index=0)])"
      ]
     },
     "execution_count": 98,
     "metadata": {},
     "output_type": "execute_result"
    }
   ],
   "source": [
    "response.choices[0].message.tool_calls"
   ]
  },
  {
   "cell_type": "code",
   "execution_count": 82,
   "id": "dc4c4bc6",
   "metadata": {},
   "outputs": [
    {
     "data": {
      "text/plain": [
       "ToolCalls(id='call_oswxzguu9tvat9w7xkgw5ffg', type='function', function=FunctionCall(name='search', arguments='{\"query\":\"How can I do well in Module 1 of the course?\"}'), index=0)"
      ]
     },
     "execution_count": 82,
     "metadata": {},
     "output_type": "execute_result"
    }
   ],
   "source": [
    "response.choices[0].message.tool_calls[0]"
   ]
  },
  {
   "cell_type": "code",
   "execution_count": 99,
   "id": "43f35710",
   "metadata": {},
   "outputs": [
    {
     "data": {
      "text/plain": [
       "{'query': 'How can I do well in Module 1 of the course?'}"
      ]
     },
     "execution_count": 99,
     "metadata": {},
     "output_type": "execute_result"
    }
   ],
   "source": [
    "calls = response.choices[0].message.tool_calls\n",
    "call = calls[0]\n",
    "call\n",
    "\n",
    "call_id = call.id\n",
    "call_id\n",
    "\n",
    "f_name = call.function.name\n",
    "f_name\n",
    "\n",
    "arguments = json.loads(call.function.arguments)\n",
    "arguments"
   ]
  },
  {
   "cell_type": "code",
   "execution_count": 100,
   "id": "53dbcbdc",
   "metadata": {},
   "outputs": [],
   "source": [
    "f = globals()[f_name]"
   ]
  },
  {
   "cell_type": "code",
   "execution_count": 101,
   "id": "0a458484",
   "metadata": {},
   "outputs": [
    {
     "name": "stdout",
     "output_type": "stream",
     "text": [
      "[\n",
      "  {\n",
      "    \"text\": \"No, you can only get a certificate if you finish the course with a \\u201clive\\u201d cohort. We don't award certificates for the self-paced mode. The reason is you need to peer-review capstone(s) after submitting a project. You can only peer-review projects at the time the course is running.\",\n",
      "    \"section\": \"General course-related questions\",\n",
      "    \"question\": \"Certificate - Can I follow the course in a self-paced mode and get a certificate?\",\n",
      "    \"course\": \"data-engineering-zoomcamp\",\n",
      "    \"_id\": 11\n",
      "  },\n",
      "  {\n",
      "    \"text\": \"Yes, we will keep all the materials after the course finishes, so you can follow the course at your own pace after it finishes.\\nYou can also continue looking at the homeworks and continue preparing for the next cohort. I guess you can also start working on your final capstone project.\",\n",
      "    \"section\": \"General course-related questions\",\n",
      "    \"question\": \"Course - Can I follow the course after it finishes?\",\n",
      "    \"course\": \"data-engineering-zoomcamp\",\n",
      "    \"_id\": 7\n",
      "  },\n",
      "  {\n",
      "    \"text\": \"You don't need it. You're accepted. You can also just start learning and submitting homework without registering. It is not checked against any registered list. Registration is just to gauge interest before the start date.\",\n",
      "    \"section\": \"General course-related questions\",\n",
      "    \"question\": \"Course - I have registered for the Data Engineering Bootcamp. When can I expect to receive the confirmation email?\",\n",
      "    \"course\": \"data-engineering-zoomcamp\",\n",
      "    \"_id\": 3\n",
      "  },\n",
      "  {\n",
      "    \"text\": \"Star the repo! Share it with friends if you find it useful \\u2763\\ufe0f\\nCreate a PR if you see you can improve the text or the structure of the repository.\",\n",
      "    \"section\": \"General course-related questions\",\n",
      "    \"question\": \"How can we contribute to the course?\",\n",
      "    \"course\": \"data-engineering-zoomcamp\",\n",
      "    \"_id\": 34\n",
      "  },\n",
      "  {\n",
      "    \"text\": \"Yes, the slack channel remains open and you can ask questions there. But always sDocker containers exit code w search the channel first and second, check the FAQ (this document), most likely all your questions are already answered here.\\nYou can also tag the bot @ZoomcampQABot to help you conduct the search, but don\\u2019t rely on its answers 100%, it is pretty good though.\",\n",
      "    \"section\": \"General course-related questions\",\n",
      "    \"question\": \"Course - Can I get support if I take the course in the self-paced mode?\",\n",
      "    \"course\": \"data-engineering-zoomcamp\",\n",
      "    \"_id\": 8\n",
      "  }\n",
      "]\n"
     ]
    }
   ],
   "source": [
    "results = f(**arguments)\n",
    "search_results = json.dumps(results, indent=2)\n",
    "print(search_results)"
   ]
  },
  {
   "cell_type": "code",
   "execution_count": 102,
   "id": "447169a1",
   "metadata": {},
   "outputs": [
    {
     "data": {
      "text/plain": [
       "[{'role': 'system',\n",
       "  'content': \"You're a course teaching assistant. \\nYou're given a question from a course student and your task is to answer it.\"},\n",
       " {'role': 'user', 'content': 'How can i do well in Module 1 of the course?'}]"
      ]
     },
     "execution_count": 102,
     "metadata": {},
     "output_type": "execute_result"
    }
   ],
   "source": [
    "chat_messages"
   ]
  },
  {
   "cell_type": "code",
   "execution_count": 103,
   "id": "f1f1a208",
   "metadata": {},
   "outputs": [],
   "source": [
    "# chat_messages.append(call)\n",
    "\n",
    "chat_messages.append({\n",
    "    \"role\": \"tool\",\n",
    "    \"tool_call_id\": call.id,\n",
    "    \"name\": f_name,\n",
    "    \"content\": search_results,\n",
    "})"
   ]
  },
  {
   "cell_type": "code",
   "execution_count": 104,
   "id": "ffd35cf3",
   "metadata": {},
   "outputs": [],
   "source": [
    "response = client.chat.completions.create(\n",
    "        model= 'meta-llama/Llama-3.3-70B-Instruct-Turbo-Free',\n",
    "        messages=chat_messages,\n",
    "        tools=tools\n",
    ")"
   ]
  },
  {
   "cell_type": "code",
   "execution_count": null,
   "id": "419a1093",
   "metadata": {},
   "outputs": [
    {
     "name": "stdout",
     "output_type": "stream",
     "text": [
      "role=<MessageRole.ASSISTANT: 'assistant'> content=\"To do well in Module 1 of the course, here are some general tips that can be applied:\\n\\n1. **Start Early**: Begin your coursework as soon as possible to avoid last-minute rushes. This allows you to absorb the material better and manage your time more effectively.\\n\\n2. **Read and Understand the Course Material**: Make sure you read through all the provided resources, including textbooks, articles, and online resources. Understanding the course material is key to performing well.\\n\\n3. **Participate in Discussions**: Engage with your peers and instructors through discussion forums or live sessions. This can help clarify any doubts you have and provide additional insights into the course material.\\n\\n4. **Complete Assignments and Homework**: These are crucial for understanding the practical application of the concepts learned. Ensure you complete all assignments on time and to the best of your ability.\\n\\n5. **Seek Help When Needed**: Don't hesitate to reach out to your instructors or peers if you're struggling with a concept or assignment. Early intervention can prevent falling behind in the course.\\n\\n6. **Review and Reflect**: Regularly review what you've learned and reflect on what you could improve. This helps in reinforcing your understanding and identifying areas where you need more focus.\\n\\n7. **Stay Organized**: Keep all your course materials, including notes, assignments, and deadlines, organized. This will help you stay on top of your coursework and ensure you don't miss any important deadlines.\\n\\n8. **Practice**: For courses that involve practical skills, such as programming or data analysis, practice is key. The more you practice, the more proficient you'll become.\\n\\n9. **Use Additional Resources**: Sometimes, the course material might not be enough. Look for additional resources like videos, blogs, or books that can supplement your learning.\\n\\n10. **Stay Motivated**: Lastly, stay motivated. Celebrate your small victories, and don't be too hard on yourself if you encounter difficulties. Staying positive and motivated will help you navigate through challenging parts of the course.\\n\\nRemember, doing well in a course is not just about passing; it's about gaining a deep understanding of the subject matter and being able to apply that knowledge in practical scenarios.\" tool_calls=[]\n"
     ]
    }
   ],
   "source": [
    "print(response.choices[0].message.content)"
   ]
  },
  {
   "cell_type": "code",
   "execution_count": 115,
   "id": "f1c7d757",
   "metadata": {},
   "outputs": [],
   "source": [
    "developer_prompt = \"\"\"\n",
    "You're a course teaching assistant. \n",
    "You're given a question from a course student and your task is to answer it.\n",
    "If you look up something in FAQ, convert the student question into multiple queries.\n",
    "\"\"\".strip()\n",
    "\n",
    "chat_messages = [\n",
    "    {\"role\": \"system\", \"content\": developer_prompt},\n",
    "    {\"role\": \"user\", \"content\": question}\n",
    "]\n",
    "\n",
    "response = client.chat.completions.create(\n",
    "        model= 'meta-llama/Llama-3.3-70B-Instruct-Turbo-Free',\n",
    "        messages=chat_messages,\n",
    "        tools=tools\n",
    ")"
   ]
  },
  {
   "cell_type": "code",
   "execution_count": 114,
   "id": "7d159f38",
   "metadata": {},
   "outputs": [],
   "source": [
    "def do_call(tool_call_response):\n",
    "    function_name = tool_call_response.function.name\n",
    "    arguments = json.loads(tool_call_response.function.arguments)\n",
    "\n",
    "    f = globals()[function_name]\n",
    "    result = f(**arguments)\n",
    "\n",
    "    return {\n",
    "    \"role\": \"tool\",\n",
    "    \"tool_call_id\": tool_call_response.id,\n",
    "    \"name\": function_name,\n",
    "    \"content\": json.dumps(result, indent=2),\n",
    "    }"
   ]
  },
  {
   "cell_type": "code",
   "execution_count": 116,
   "id": "4d059c9b",
   "metadata": {},
   "outputs": [
    {
     "data": {
      "text/plain": [
       "ChatCompletionChoicesData(index=0, logprobs=None, seed=17004802788733580000, finish_reason=<FinishReason.ToolCalls: 'tool_calls'>, message=ChatCompletionMessage(role=<MessageRole.ASSISTANT: 'assistant'>, content=None, tool_calls=[ToolCalls(id='call_ouzspzrtemlk351b8vrpzq5l', type='function', function=FunctionCall(name='search', arguments='{\"query\":\"How can I do well in Module 1 of the course?\"}'), index=0)]))"
      ]
     },
     "execution_count": 116,
     "metadata": {},
     "output_type": "execute_result"
    }
   ],
   "source": [
    "response.choices[0]"
   ]
  },
  {
   "cell_type": "code",
   "execution_count": 117,
   "id": "09da60a6",
   "metadata": {},
   "outputs": [],
   "source": [
    "for entry in response.choices:\n",
    "\n",
    "    if entry.message.tool_calls != []:      \n",
    "        result = do_call(entry.message.tool_calls[0])\n",
    "        chat_messages.append(result)\n",
    "    else:\n",
    "        print(entry.message.content) "
   ]
  },
  {
   "cell_type": "code",
   "execution_count": 118,
   "id": "0206207b",
   "metadata": {},
   "outputs": [
    {
     "data": {
      "text/plain": [
       "[{'role': 'system',\n",
       "  'content': \"You're a course teaching assistant. \\nYou're given a question from a course student and your task is to answer it.\\nIf you look up something in FAQ, convert the student question into multiple queries.\"},\n",
       " {'role': 'user', 'content': 'How can i do well in Module 1 of the course?'},\n",
       " {'role': 'tool',\n",
       "  'tool_call_id': 'call_ouzspzrtemlk351b8vrpzq5l',\n",
       "  'name': 'search',\n",
       "  'content': '[\\n  {\\n    \"text\": \"No, you can only get a certificate if you finish the course with a \\\\u201clive\\\\u201d cohort. We don\\'t award certificates for the self-paced mode. The reason is you need to peer-review capstone(s) after submitting a project. You can only peer-review projects at the time the course is running.\",\\n    \"section\": \"General course-related questions\",\\n    \"question\": \"Certificate - Can I follow the course in a self-paced mode and get a certificate?\",\\n    \"course\": \"data-engineering-zoomcamp\",\\n    \"_id\": 11\\n  },\\n  {\\n    \"text\": \"Yes, we will keep all the materials after the course finishes, so you can follow the course at your own pace after it finishes.\\\\nYou can also continue looking at the homeworks and continue preparing for the next cohort. I guess you can also start working on your final capstone project.\",\\n    \"section\": \"General course-related questions\",\\n    \"question\": \"Course - Can I follow the course after it finishes?\",\\n    \"course\": \"data-engineering-zoomcamp\",\\n    \"_id\": 7\\n  },\\n  {\\n    \"text\": \"You don\\'t need it. You\\'re accepted. You can also just start learning and submitting homework without registering. It is not checked against any registered list. Registration is just to gauge interest before the start date.\",\\n    \"section\": \"General course-related questions\",\\n    \"question\": \"Course - I have registered for the Data Engineering Bootcamp. When can I expect to receive the confirmation email?\",\\n    \"course\": \"data-engineering-zoomcamp\",\\n    \"_id\": 3\\n  },\\n  {\\n    \"text\": \"Star the repo! Share it with friends if you find it useful \\\\u2763\\\\ufe0f\\\\nCreate a PR if you see you can improve the text or the structure of the repository.\",\\n    \"section\": \"General course-related questions\",\\n    \"question\": \"How can we contribute to the course?\",\\n    \"course\": \"data-engineering-zoomcamp\",\\n    \"_id\": 34\\n  },\\n  {\\n    \"text\": \"Yes, the slack channel remains open and you can ask questions there. But always sDocker containers exit code w search the channel first and second, check the FAQ (this document), most likely all your questions are already answered here.\\\\nYou can also tag the bot @ZoomcampQABot to help you conduct the search, but don\\\\u2019t rely on its answers 100%, it is pretty good though.\",\\n    \"section\": \"General course-related questions\",\\n    \"question\": \"Course - Can I get support if I take the course in the self-paced mode?\",\\n    \"course\": \"data-engineering-zoomcamp\",\\n    \"_id\": 8\\n  }\\n]'}]"
      ]
     },
     "execution_count": 118,
     "metadata": {},
     "output_type": "execute_result"
    }
   ],
   "source": [
    "chat_messages"
   ]
  },
  {
   "cell_type": "code",
   "execution_count": 119,
   "id": "9755da81",
   "metadata": {},
   "outputs": [
    {
     "name": "stdout",
     "output_type": "stream",
     "text": [
      "To do well in Module 1 of the course, here are some steps you can follow:\n",
      "\n",
      "1. **Read the course materials**: Start by reading the course materials, including the lecture notes, slides, and any additional resources provided.\n",
      "2. **Watch the video lectures**: Watch the video lectures for Module 1, taking notes on key concepts and ideas.\n",
      "3. **Complete the homework assignments**: Complete the homework assignments for Module 1, which will help you practice and reinforce your understanding of the material.\n",
      "4. **Participate in discussions**: Participate in discussions on the course forum or Slack channel, asking questions and engaging with your peers and instructors.\n",
      "5. **Review and practice**: Review the material regularly, practicing what you've learned and seeking help when needed.\n",
      "\n",
      "Additionally, you can also:\n",
      "\n",
      "* **Star the repo**: Star the course repository on GitHub to show your support and interest in the course.\n",
      "* **Contribute to the course**: Consider contributing to the course by creating a pull request to improve the text or structure of the repository.\n",
      "* **Seek help when needed**: Don't hesitate to seek help when you need it, whether it's through the course forum, Slack channel, or by tagging the bot @ZoomcampQABot.\n",
      "\n",
      "By following these steps, you'll be well on your way to doing well in Module 1 of the course. Good luck!\n"
     ]
    }
   ],
   "source": [
    "response = client.chat.completions.create(\n",
    "        model= 'meta-llama/Llama-3.3-70B-Instruct-Turbo-Free',\n",
    "        messages=chat_messages,\n",
    "        tools=tools\n",
    ")\n",
    "for entry in response.choices:\n",
    "\n",
    "    if entry.message.tool_calls != []:      \n",
    "        result = do_call(entry.message.tool_calls[0])\n",
    "        chat_messages.append(result)\n",
    "    else:\n",
    "        print(entry.message.content) "
   ]
  },
  {
   "cell_type": "code",
   "execution_count": 122,
   "id": "669790b4",
   "metadata": {},
   "outputs": [],
   "source": [
    "developer_prompt = \"\"\"\n",
    "You're a course teaching assistant. \n",
    "You're given a question from a course student and your task is to answer it.\n",
    "\n",
    "Use FAQ if your own knowledge is not sufficient to answer the question.\n",
    "When using FAQ, perform deep topic exploration: make one request to FAQ,\n",
    "and then based on the results, make more requests.\n",
    "\n",
    "At the end of each response, ask the user a follow up question based on your answer.\n",
    "\"\"\".strip()\n",
    "\n",
    "chat_messages = [\n",
    "    {\"role\": \"system\", \"content\": developer_prompt},\n",
    "]"
   ]
  },
  {
   "cell_type": "code",
   "execution_count": 124,
   "id": "d6baaaec",
   "metadata": {},
   "outputs": [
    {
     "name": "stdout",
     "output_type": "stream",
     "text": [
      "function_call: id='call_lc9httvuxe48txprcbl9ke2z' type='function' function=FunctionCall(name='search', arguments='{\"query\":\"joining the course\"}') index=0\n",
      "\n",
      "To join the course, you should register before the course starts using the provided link, subscribe to the course public Google Calendar, join the course Telegram channel with announcements, and register in DataTalks.Club's Slack and join the channel.\n",
      "\n",
      "What is your current level of experience with data engineering, and are you looking to learn specific skills or topics in the course?\n",
      "\n"
     ]
    }
   ],
   "source": [
    "while True: # main Q&A loop\n",
    "    question = input() # How do I do my best for module 1?\n",
    "    if question == 'stop':\n",
    "        break\n",
    "\n",
    "    message = {\"role\": \"user\", \"content\": question}\n",
    "    chat_messages.append(message)\n",
    "\n",
    "    while True: # request-response loop - query API till get a message\n",
    "        response = client.chat.completions.create(\n",
    "        model= 'meta-llama/Llama-3.3-70B-Instruct-Turbo-Free',\n",
    "        messages=chat_messages,\n",
    "        tools=tools\n",
    "        )\n",
    "\n",
    "        has_messages = False\n",
    "        for entry in response.choices:\n",
    "\n",
    "            if entry.message.tool_calls != []: \n",
    "                print('function_call:', entry.message.tool_calls[0])\n",
    "                print()    \n",
    "                result = do_call(entry.message.tool_calls[0])\n",
    "                chat_messages.append(result)\n",
    "            else:\n",
    "                print(entry.message.content) \n",
    "                print()\n",
    "                has_messages = True\n",
    "\n",
    "        if has_messages:\n",
    "            break"
   ]
  },
  {
   "cell_type": "code",
   "execution_count": null,
   "id": "fe710457",
   "metadata": {},
   "outputs": [],
   "source": []
  }
 ],
 "metadata": {
  "kernelspec": {
   "display_name": "agent_env",
   "language": "python",
   "name": "python3"
  },
  "language_info": {
   "codemirror_mode": {
    "name": "ipython",
    "version": 3
   },
   "file_extension": ".py",
   "mimetype": "text/x-python",
   "name": "python",
   "nbconvert_exporter": "python",
   "pygments_lexer": "ipython3",
   "version": "3.12.1"
  }
 },
 "nbformat": 4,
 "nbformat_minor": 5
}
